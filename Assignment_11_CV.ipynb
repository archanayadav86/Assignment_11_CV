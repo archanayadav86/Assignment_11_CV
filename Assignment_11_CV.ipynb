{
 "cells": [
  {
   "cell_type": "markdown",
   "metadata": {},
   "source": [
    "1. What do REGION PROPOSALS entail?"
   ]
  },
  {
   "cell_type": "markdown",
   "metadata": {},
   "source": [
    "Ans--> RPN, is a fully convolutional network that simultaneously predicts object bounds and objectness scores at each position. The RPN is trained end-to-end to generate high-quality region proposals.\n",
    "There are two approaches for generating the region proposal i.e. sliding window algorithm and Selective search algorithm."
   ]
  },
  {
   "cell_type": "markdown",
   "metadata": {},
   "source": [
    "2. What do you mean by NON-MAXIMUM SUPPRESSION? (NMS)"
   ]
  },
  {
   "cell_type": "markdown",
   "metadata": {},
   "source": [
    "Ans-->Non Maximum Suppression is a computer vision method that selects a single entity out of many overlapping entities (for example bounding boxes in object detection). The criteria is usually discarding entities that are below a given probability bound.It  is a technique used in numerous computer vision tasks. It is a class of algorithms to select one entity out of many overlapping entities. We can choose the selection criteria to arrive at the desired results"
   ]
  },
  {
   "cell_type": "markdown",
   "metadata": {},
   "source": [
    "3. What exactly is mAP?"
   ]
  },
  {
   "cell_type": "markdown",
   "metadata": {},
   "source": [
    "Ans--> Mean Average Precision(mAP) is the current benchmark metric used by the computer vision research community to evaluate the robustness of object detection models. mAP (mean average precision) is the average of AP."
   ]
  },
  {
   "cell_type": "markdown",
   "metadata": {},
   "source": [
    "4. What is a frames per second (FPS)?"
   ]
  },
  {
   "cell_type": "markdown",
   "metadata": {},
   "source": [
    "Ans--> Frame rate, then, is the speed at which those images are shown, or how fast you “flip” through the book. It's usually expressed as “frames per second,” or FPS. So if a video is captured and played back at 24fps, that means each second of video shows 24 distinct still images.It defines how fast your object detection model process your video and generates the desired output. The first step for any custom object detection is to grab images for labeling."
   ]
  },
  {
   "cell_type": "markdown",
   "metadata": {},
   "source": [
    "5. What is an IOU (INTERSECTION OVER UNION)?"
   ]
  },
  {
   "cell_type": "markdown",
   "metadata": {},
   "source": [
    "Ans-->IoU means Intersection over Union - a metric used to evaluate Deep Learning algorithms by estimating how well a predicted mask or bounding box matches the ground truth data.\n",
    "It is a commonly used performance metric in object detection tasks in machine learning. It measures the overlap between the predicted bounding box of an object and the ground truth bounding box in an image."
   ]
  },
  {
   "cell_type": "markdown",
   "metadata": {},
   "source": [
    "6. Describe the PRECISION-RECALL CURVE (PR CURVE)"
   ]
  },
  {
   "cell_type": "markdown",
   "metadata": {},
   "source": [
    "Ans-->The precision-recall curve is constructed by calculating and plotting the precision against the recall for a single classifier at a variety of thresholds. For example, if we use logistic regression, the threshold would be the predicted probability of an observation belonging to the positive class.\n",
    "It is a plot of the precision (y-axis) and the recall (x-axis) for different probability thresholds. PR Curve: Plot of Recall (x) vs Precision (y)."
   ]
  },
  {
   "cell_type": "markdown",
   "metadata": {},
   "source": [
    "7. What is the term \"selective search\"?"
   ]
  },
  {
   "cell_type": "markdown",
   "metadata": {},
   "source": [
    "Ans--> Selective Search is a region proposal algorithm used in object detection. It is designed to be fast with a very high recall. It is based on computing hierarchical grouping of similar regions based on color, texture, size and shape compatibility.\n",
    "It  is a flexible hierarchical segmentation algorithm for this purpose. Performance is improved by using a diverse set of segmentation criteria. The performance of Selective Search and the complete object recognition pipeline are both very competitive with other appraoches."
   ]
  },
  {
   "cell_type": "markdown",
   "metadata": {},
   "source": [
    "8. Describe the R-CNN model's four components."
   ]
  },
  {
   "cell_type": "markdown",
   "metadata": {},
   "source": [
    "Ans-->Components of a Convolutional Neural Network. Convolutional networks are composed of an input layer, an output layer, and one or more hidden layers. A convolutional network is different than a regular neural network in that the neurons in its layers are arranged in three dimensions (width, height, and depth dimensions"
   ]
  },
  {
   "cell_type": "markdown",
   "metadata": {},
   "source": [
    "9. What exactly is the Localization Module?"
   ]
  },
  {
   "cell_type": "markdown",
   "metadata": {},
   "source": [
    "Ans--> Visual localization, a way to determine location from images, is a method used by robots and self-driving cars to estimate their position. It's also used in augmented reality applications to interact with the physical world both indoors and out in the open.\n",
    "Object localization refers to identifying the location of one or more objects in an image and drawing abounding box around their extent. Object detection combines these two tasks and localizes and classifies one or more objects in an image"
   ]
  },
  {
   "cell_type": "markdown",
   "metadata": {},
   "source": [
    "10. What are the R-CNN DISADVANTAGES?"
   ]
  },
  {
   "cell_type": "markdown",
   "metadata": {},
   "source": [
    "Ans-->The selective search algorithm is very rigid. Since it's a fixed algorithm no learning happens during the search. This sometimes could result in the generation of bad region proposals. It is very time-consuming since the number of region proposals is approximately 2000 or more.\n",
    "It is a multi-stage model, where each stage is an independent component. Thus, it cannot be trained end-to-end. It caches the extracted features from the pre-trained CNN on the disk to later train the SVMs."
   ]
  }
 ],
 "metadata": {
  "kernelspec": {
   "display_name": "Python 3",
   "language": "python",
   "name": "python3"
  },
  "language_info": {
   "codemirror_mode": {
    "name": "ipython",
    "version": 3
   },
   "file_extension": ".py",
   "mimetype": "text/x-python",
   "name": "python",
   "nbconvert_exporter": "python",
   "pygments_lexer": "ipython3",
   "version": "3.7.6"
  }
 },
 "nbformat": 4,
 "nbformat_minor": 4
}
